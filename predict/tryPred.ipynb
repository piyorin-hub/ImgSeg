{
 "cells": [
  {
   "cell_type": "code",
   "execution_count": 4,
   "metadata": {},
   "outputs": [],
   "source": [
    "import tensorflow\n",
    "import sys, os\n",
    "import scipy\n",
    "import numpy as np\n",
    "\n",
    "from PIL import Image\n",
    "from tensorflow import keras\n",
    "from tensorflow.keras.models import model_from_json\n",
    "import json\n"
   ]
  },
  {
   "cell_type": "code",
   "execution_count": 5,
   "metadata": {},
   "outputs": [],
   "source": [
    "imsize = (32, 32)\n",
    "\n",
    "testImg = '../img/'\n",
    "kerasModel = \"../arch/test.json\"\n",
    "kerasParams = \"../arch/test.hdf5\""
   ]
  },
  {
   "cell_type": "code",
   "execution_count": 6,
   "metadata": {},
   "outputs": [],
   "source": [
    "def loadImg(path):\n",
    "  img = Image.open(path)\n",
    "  img = img.convert('RGB')\n",
    "  img = img.resize(imsize)\n",
    "  # 画像データを行列（numpy配列)に変換\n",
    "  img = np.asarray(img)\n",
    "  img = img / 255.0\n",
    "\n",
    "  return img"
   ]
  },
  {
   "cell_type": "code",
   "execution_count": 7,
   "metadata": {},
   "outputs": [],
   "source": [
    "def getFile(dir_path):\n",
    "  filenames = os.listdir(dir_path)\n",
    "  return filenames"
   ]
  },
  {
   "cell_type": "code",
   "execution_count": 9,
   "metadata": {},
   "outputs": [
    {
     "name": "stdout",
     "output_type": "stream",
     "text": [
      "Model: \"sequential\"\n",
      "_________________________________________________________________\n",
      "Layer (type)                 Output Shape              Param #   \n",
      "=================================================================\n",
      "conv2d (Conv2D)              (None, 32, 32, 16)        448       \n",
      "_________________________________________________________________\n",
      "activation (Activation)      (None, 32, 32, 16)        0         \n",
      "_________________________________________________________________\n",
      "conv2d_1 (Conv2D)            (None, 32, 32, 16)        2320      \n",
      "_________________________________________________________________\n",
      "max_pooling2d (MaxPooling2D) (None, 16, 16, 16)        0         \n",
      "_________________________________________________________________\n",
      "dropout (Dropout)            (None, 16, 16, 16)        0         \n",
      "_________________________________________________________________\n",
      "conv2d_2 (Conv2D)            (None, 16, 16, 32)        4640      \n",
      "_________________________________________________________________\n",
      "activation_1 (Activation)    (None, 16, 16, 32)        0         \n",
      "_________________________________________________________________\n",
      "conv2d_3 (Conv2D)            (None, 16, 16, 32)        9248      \n",
      "_________________________________________________________________\n",
      "max_pooling2d_1 (MaxPooling2 (None, 8, 8, 32)          0         \n",
      "_________________________________________________________________\n",
      "dropout_1 (Dropout)          (None, 8, 8, 32)          0         \n",
      "_________________________________________________________________\n",
      "conv2d_4 (Conv2D)            (None, 8, 8, 64)          18496     \n",
      "_________________________________________________________________\n",
      "activation_2 (Activation)    (None, 8, 8, 64)          0         \n",
      "_________________________________________________________________\n",
      "conv2d_5 (Conv2D)            (None, 8, 8, 64)          36928     \n",
      "_________________________________________________________________\n",
      "max_pooling2d_2 (MaxPooling2 (None, 4, 4, 64)          0         \n",
      "_________________________________________________________________\n",
      "dropout_2 (Dropout)          (None, 4, 4, 64)          0         \n",
      "_________________________________________________________________\n",
      "conv2d_6 (Conv2D)            (None, 4, 4, 128)         73856     \n",
      "_________________________________________________________________\n",
      "activation_3 (Activation)    (None, 4, 4, 128)         0         \n",
      "_________________________________________________________________\n",
      "dropout_3 (Dropout)          (None, 4, 4, 128)         0         \n",
      "_________________________________________________________________\n",
      "flatten (Flatten)            (None, 2048)              0         \n",
      "_________________________________________________________________\n",
      "dense (Dense)                (None, 100)               204900    \n",
      "_________________________________________________________________\n",
      "dropout_4 (Dropout)          (None, 100)               0         \n",
      "_________________________________________________________________\n",
      "dense_1 (Dense)              (None, 3)                 303       \n",
      "_________________________________________________________________\n",
      "activation_4 (Activation)    (None, 3)                 0         \n",
      "=================================================================\n",
      "Total params: 351,139\n",
      "Trainable params: 351,139\n",
      "Non-trainable params: 0\n",
      "_________________________________________________________________\n",
      "cat1.JPG\n",
      "[[0.03300976 0.23889625 0.72809404]]\n",
      ">>>>クルマ\n",
      "##################################################\n",
      "cat7.JPG\n",
      "[[5.5095947e-01 4.4871449e-01 3.2603144e-04]]\n",
      ">>>>ネコ\n",
      "##################################################\n",
      "cat6.JPG\n",
      "[[0.5408392  0.3569917  0.10216912]]\n",
      ">>>>ネコ\n",
      "##################################################\n",
      "cat4.JPG\n",
      "[[8.7301821e-01 1.2693837e-01 4.3515836e-05]]\n",
      ">>>>ネコ\n",
      "##################################################\n",
      "cat5.JPG\n",
      "[[8.7497920e-02 9.1248387e-01 1.8207065e-05]]\n",
      ">>>>イヌ\n",
      "##################################################\n",
      "cat8.JPG\n",
      "[[7.0345622e-01 2.9634261e-01 2.0117956e-04]]\n",
      ">>>>ネコ\n",
      "##################################################\n",
      "cat2.jpeg\n",
      "[[0.7914709  0.20566046 0.00286867]]\n",
      ">>>>ネコ\n",
      "##################################################\n",
      "cat3.jpeg\n",
      "[[0.48676792 0.03057262 0.4826595 ]]\n",
      ">>>>ネコ\n",
      "##################################################\n"
     ]
    }
   ],
   "source": [
    "pic = getFile(testImg)\n",
    "model = model_from_json(\n",
    "  open(kerasModel).read()\n",
    ")\n",
    "model.load_weights(\"../arch/test.hdf5\")\n",
    "model.summary()\n",
    "\n",
    "for i in pic:\n",
    "  print(i)\n",
    "  img = loadImg(testImg + i)\n",
    "  predict = model.predict(np.array([img]))\n",
    "  print(predict)\n",
    "  preLabel = np.argmax(predict, axis=1)\n",
    "\n",
    "  if preLabel == 0:\n",
    "    print(\">>>>ネコ\")\n",
    "  elif preLabel == 1:\n",
    "    print(\">>>>イヌ\")\n",
    "  elif preLabel == 2:\n",
    "    print(\">>>>クルマ\")\n",
    "\n",
    "  print(\"#\"*50)\n"
   ]
  },
  {
   "cell_type": "code",
   "execution_count": null,
   "metadata": {},
   "outputs": [],
   "source": []
  }
 ],
 "metadata": {
  "interpreter": {
   "hash": "9767b0ead588912dc94a6560659ad3cce813fd44b6a1f18136345962382953b6"
  },
  "kernelspec": {
   "display_name": "Python 3.7.13 ('base')",
   "language": "python",
   "name": "python3"
  },
  "language_info": {
   "codemirror_mode": {
    "name": "ipython",
    "version": 3
   },
   "file_extension": ".py",
   "mimetype": "text/x-python",
   "name": "python",
   "nbconvert_exporter": "python",
   "pygments_lexer": "ipython3",
   "version": "3.7.13"
  },
  "orig_nbformat": 4
 },
 "nbformat": 4,
 "nbformat_minor": 2
}
